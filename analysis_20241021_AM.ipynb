{
 "cells": [
  {
   "cell_type": "code",
   "execution_count": null,
   "metadata": {},
   "outputs": [],
   "source": [
    "import pandas as pd\n",
    "import hvplot.pandas\n",
    "import holoviews as hv\n",
    "import numpy as np\n",
    "from holoviews import opts\n",
    "import panel as pn\n",
    "pn.extension()\n",
    "hv.extension('bokeh')\n",
    "import geopandas as gpd\n",
    "from shapely.geometry import Point\n",
    "import folium\n",
    "import branca.colormap as cm\n",
    "import os\n",
    "import matplotlib.pyplot as plt\n",
    "import seaborn as sns\n",
    "import plotly.express as px\n",
    "import plotly.graph_objects as go\n",
    "from jupyter_dash import JupyterDash\n",
    "from dash import Dash, dcc, html\n",
    "from dash.dependencies import Input, Output\n",
    "from IPython.core.display import HTML\n"
   ]
  },
  {
   "cell_type": "code",
   "execution_count": null,
   "metadata": {},
   "outputs": [],
   "source": [
    "data_csv_file=\"data/commute/CSVLog_20241021_060005.CSV\"\n",
    "output_folder_path = 'output/date/analysis_20241021_am/'  # Change this to your folder path\n",
    "#create folder folder if it does not exist\n",
    "if not os.path.exists(output_folder_path):\n",
    "    os.makedirs(output_folder_path)"
   ]
  },
  {
   "cell_type": "code",
   "execution_count": null,
   "metadata": {},
   "outputs": [],
   "source": [
    "def filter(df,column,min,max): \n",
    "    mask = (df[f'{column}'] >= min) & (df[f'{column}'] < max)\n",
    "    df = df[mask]\n",
    "    return df"
   ]
  },
  {
   "cell_type": "code",
   "execution_count": null,
   "metadata": {},
   "outputs": [],
   "source": [
    "def create_map(df,output_folder_path,output_file_name):\n",
    "    df_map=df.copy()\n",
    "    map_center = [44.980164, -93.185692]\n",
    "    map = folium.Map(location=map_center, zoom_start=11)\n",
    "    coordinates = df_map[['lat', 'long', 'MPH']].values.tolist()\n",
    "    sorted_coordinates = sorted(coordinates, key=lambda x: x[2])\n",
    "    colormap = cm.LinearColormap(\n",
    "        colors=['blue', 'green', 'yellow', 'red'],  # Custom color range\n",
    "        vmin=df_map['MPH'].min(),\n",
    "        vmax=df_map['MPH'].max(),\n",
    "        caption='MPH'   \n",
    "    )\n",
    "\n",
    "    colormap.add_to(map)\n",
    "\n",
    "\n",
    "\n",
    "    for i in range(len(df_map) - 1):\n",
    "        # Coordinates of the current segment\n",
    "        start = [df_map.iloc[i]['lat'], df_map.iloc[i]['long']]\n",
    "        end = [df_map.iloc[i + 1]['lat'], df_map.iloc[i + 1]['long']]\n",
    "\n",
    "        # Value for color mapping (use average or a specific value)\n",
    "        segment_value = (df_map.iloc[i]['MPH'] + df_map.iloc[i + 1]['MPH']) / 2\n",
    "\n",
    "        # Create and add a PolyLine for each segment\n",
    "        folium.PolyLine(\n",
    "            locations=[start, end],\n",
    "            color=colormap(segment_value),  # Map value to color\n",
    "            weight=5,\n",
    "            opacity=1\n",
    "            ).add_to(map)\n",
    "\n",
    "    # Save the map to an HTML file\n",
    "    map_moving_file_path = os.path.join(output_folder_path, f'{output_file_name}.html')\n",
    "    map.save(map_moving_file_path)\n",
    "    return map"
   ]
  },
  {
   "cell_type": "code",
   "execution_count": null,
   "metadata": {},
   "outputs": [],
   "source": [
    "df=pd.read_csv(data_csv_file)\n",
    "df.columns = df.columns.str.strip()\n",
    "column_list=df.columns.tolist()\n",
    "\n",
    "formatted_columns = [f'\"{column}\",' for column in column_list]\n",
    "# Join them together with newlines\n",
    "formatted_string = '\\n'.join(formatted_columns)\n",
    "\n",
    "print(formatted_string)"
   ]
  },
  {
   "cell_type": "code",
   "execution_count": null,
   "metadata": {},
   "outputs": [],
   "source": [
    "current_column_names=[\n",
    "       'Trip Distance (miles)', \n",
    "       'Vehicle speed (MPH)',\n",
    "       'Relative accelerator pedal position (%)',\n",
    "       \"Relative throttle position (%)\",\n",
    "       'Acceleration (ft/s²)',\n",
    "       'Acceleration (Avg) (ft/s²)',\n",
    "       'Engine Power (hp)', \n",
    "       'Engine RPM (RPM)',\n",
    "       'Mass air flow rate (lb/min)',\n",
    "       'Intake manifold absolute pressure (inHg)',\n",
    "       'Commanded fuel rail pressure A (inHg)',\n",
    "       'Fuel rail pressure A (inHg)',\n",
    "       'Ambient air temperature (°F)',\n",
    "       'Intake air temperature bank 1  sensor 1 (°F)',\n",
    "       'Intake air temperature bank 1  sensor 2 (°F)',\n",
    "       'Instant fuel economy (MPG)',\n",
    "       'Trip Fuel Economy (MPG)',\n",
    "       'Barometric pressure (inHg)',\n",
    "       'Altitude (ft)',\n",
    "       'Latitude (deg)',\n",
    "       'Longitude (deg)',\n",
    "       'Fuel type',\n",
    "       'Hard Brake Count',\n",
    "       'Calculated load value (%)',\n",
    "       'Engine coolant temperature (°F)',\n",
    "       'Catalyst temperature (Bank 1 Sensor 1) (°F)',\n",
    "       'Engine oil temperature (°F)',\n",
    "       'Trip Fuel (gal)',\n",
    "       'Average Trip CO2 Rate (lb/mile)',\n",
    "       'Engine Torque (lb•ft)'\n",
    "       ]\n",
    "new_column_names = [\n",
    "       'distTrip (Miles)',\n",
    "       'MPH',\n",
    "       'relAccPedPOS (%)',\n",
    "       'relThrotPOS (%)',\n",
    "       'accel (ft/s²)',\n",
    "       'accelAvg (ft/s²)',\n",
    "       'HP',\n",
    "       'RPM',\n",
    "       'massAirFlowRate (lb/min)',\n",
    "       'inManAbsPress (inHg)',\n",
    "       'fuelRailPressA CMD (inHg)',\n",
    "       'fuelRailPressA (inHg)',\n",
    "       'tempAmbAir (°F)',\n",
    "       'tempInBnk1Sens1 (°F)',\n",
    "       'tempInBnk1Sens2 (°F)',\n",
    "       'mpgInstant',\n",
    "       'mpgTrip',\n",
    "       'barPress (inHg)',\n",
    "       'alt (ft)',\n",
    "       'lat',\n",
    "       'long',\n",
    "       'fuelType',\n",
    "       'brkHardCnt',\n",
    "       'loadValCalc (%)',\n",
    "       'tempCool (°F)',\n",
    "       'tempCatBnk1Sens1 (°F)',\n",
    "       'tempOil (°F)',\n",
    "       'fuelTrip (gal)',\n",
    "       'avgTripCO2Rate (lb/mile)',\n",
    "       'Torque (lb•ft)'\n",
    "       ]\n",
    "\n",
    "rename_dict = dict(zip(current_column_names, new_column_names))\n",
    "\n",
    "# Filter the rename_dict to only include columns that exist in the DataFrame\n",
    "filtered_rename_dict = {k: v for k, v in rename_dict.items() if k in df.columns}\n",
    "\n",
    "# Rename columns based on the filtered mapping\n",
    "df = df.rename(columns=filtered_rename_dict)\n",
    "df.head()"
   ]
  },
  {
   "cell_type": "code",
   "execution_count": null,
   "metadata": {},
   "outputs": [],
   "source": [
    "df = df.rename(columns=rename_dict)\n",
    "df.head()"
   ]
  },
  {
   "cell_type": "code",
   "execution_count": null,
   "metadata": {},
   "outputs": [],
   "source": [
    "# To avoid math errors in situations where values = 0\n",
    "df['Boost (psi)'] = df['Boost (psi)'].bfill().infer_objects()\n",
    "df.loc[df['Boost (psi)'] == 0, 'Boost (psi)'] = 0.01\n",
    "\n",
    "df.head(2)\n"
   ]
  },
  {
   "cell_type": "code",
   "execution_count": null,
   "metadata": {},
   "outputs": [],
   "source": [
    "def clean_data(df):\n",
    "    # Round columns 'Time (sec)', ' Engine RPM (RPM)' and 2 other columns (Number of decimals: 0)\n",
    "    df = df.round({\n",
    "                'RPM': 0,\n",
    "                'Engine Power (hp)': 1,\n",
    "                'fuelRailPressA CMD (inHg)':0,\n",
    "                'fuelRailPressA (inHg)':0,\n",
    "                'Altitude (ft)':0,\n",
    "                'mpgInstant': 2,\n",
    "                'MPH': 2,\n",
    "                'relAccPedPOS (%)': 2,\n",
    "                'mpgTrip': 2,\n",
    "                'Boost (psi)':2,\n",
    "                'inManAbsPress (inHg)': 2,\n",
    "                'massAirFlowRate (lb/min)': 2,\n",
    "                'Bearing (deg)': 2,\n",
    "                'accel (ft/s²)': 3,\n",
    "                'accelAvg (ft/s²)': 3,\n",
    "                'Time (sec)': 3,\n",
    "                'distTrip (Miles)': 3,\n",
    "                'barPress (inHg)':3,\n",
    "                'alt (ft)':1,\n",
    "                'HP':2\n",
    "                })\n",
    "    return df\n",
    "\n",
    "df_clean = clean_data(df.copy())\n",
    "df_clean.head(2)"
   ]
  },
  {
   "cell_type": "code",
   "execution_count": null,
   "metadata": {},
   "outputs": [],
   "source": [
    "df_clean.describe()"
   ]
  },
  {
   "cell_type": "code",
   "execution_count": null,
   "metadata": {},
   "outputs": [],
   "source": [
    "df_clean.columns"
   ]
  },
  {
   "cell_type": "code",
   "execution_count": null,
   "metadata": {},
   "outputs": [],
   "source": [
    "#create dataframe where vehicle is stationary\n",
    "df_stationary = df_clean[df_clean['MPH'] == 0]"
   ]
  },
  {
   "cell_type": "code",
   "execution_count": null,
   "metadata": {},
   "outputs": [],
   "source": [
    "# Shift the 'Vehicle speed (MPH)' column\n",
    "df_clean['next_mph'] = df_clean['MPH'].shift(-1)\n",
    "\n",
    "# Create the mask\n",
    "mask = (df_clean['MPH'] > 0) | ((df_clean['MPH'] == 0) & (df_clean['next_mph'] > 0))\n",
    "mask = mask & df_clean['next_mph'].notna()\n",
    "# Filter the DataFrame and drop the 'next_mph' column\n",
    "df_moving = df_clean[mask].drop(columns=['next_mph'])\n",
    "df_moving = df_clean[mask].drop(columns=['next_mph'])\n",
    "df_moving.describe()\n"
   ]
  },
  {
   "cell_type": "code",
   "execution_count": null,
   "metadata": {},
   "outputs": [],
   "source": [
    "if 'alt (ft)' in df_moving.columns:\n",
    "    df_moving.hvplot(\n",
    "        kind='scatter',\n",
    "        x='distTrip (Miles)',\n",
    "        y='alt (ft)',  # Single column doesn't need to be wrapped in a list\n",
    "        legend='bottom_right',\n",
    "        widget_location='bottom',\n",
    "    )"
   ]
  },
  {
   "cell_type": "code",
   "execution_count": null,
   "metadata": {},
   "outputs": [],
   "source": [
    "df_0_10=filter(df_moving,'MPH',0,10)\n",
    "df_0_10.describe()\n"
   ]
  },
  {
   "cell_type": "code",
   "execution_count": null,
   "metadata": {},
   "outputs": [],
   "source": [
    "hvexplorer = df_0_10.hvplot.explorer()\n",
    "hvexplorer"
   ]
  },
  {
   "cell_type": "code",
   "execution_count": null,
   "metadata": {},
   "outputs": [],
   "source": [
    "df_10_20=filter(df_moving,'MPH',10,20)\n",
    "df_10_20.describe()"
   ]
  },
  {
   "cell_type": "code",
   "execution_count": null,
   "metadata": {},
   "outputs": [],
   "source": [
    "hvexplorer = df_10_20.hvplot.explorer()\n",
    "hvexplorer"
   ]
  },
  {
   "cell_type": "code",
   "execution_count": null,
   "metadata": {},
   "outputs": [],
   "source": [
    "df_20_30=filter(df_moving,'MPH',20,30)\n",
    "df_20_30.describe()\n"
   ]
  },
  {
   "cell_type": "code",
   "execution_count": null,
   "metadata": {},
   "outputs": [],
   "source": [
    "hvexplorer = df_20_30.hvplot.explorer()\n",
    "hvexplorer\n"
   ]
  },
  {
   "cell_type": "code",
   "execution_count": null,
   "metadata": {},
   "outputs": [],
   "source": [
    "df_30_40=filter(df_moving,'MPH',30,40)\n",
    "df_30_40.describe()"
   ]
  },
  {
   "cell_type": "code",
   "execution_count": null,
   "metadata": {},
   "outputs": [],
   "source": [
    "hvexplorer = df_30_40.hvplot.explorer()\n",
    "hvexplorer"
   ]
  },
  {
   "cell_type": "code",
   "execution_count": null,
   "metadata": {},
   "outputs": [],
   "source": [
    "df_40_50=filter(df_moving,'MPH',40,50)\n",
    "df_40_50.describe()"
   ]
  },
  {
   "cell_type": "code",
   "execution_count": null,
   "metadata": {},
   "outputs": [],
   "source": [
    "hvexplorer = df_40_50.hvplot.explorer()\n",
    "hvexplorer"
   ]
  },
  {
   "cell_type": "code",
   "execution_count": null,
   "metadata": {},
   "outputs": [],
   "source": [
    "df_50_60=filter(df_moving,'MPH',50,60)\n",
    "df_50_60.describe()"
   ]
  },
  {
   "cell_type": "code",
   "execution_count": null,
   "metadata": {},
   "outputs": [],
   "source": [
    "hvexplorer = df_50_60.hvplot.explorer()\n",
    "hvexplorer"
   ]
  },
  {
   "cell_type": "code",
   "execution_count": null,
   "metadata": {},
   "outputs": [],
   "source": [
    "df_60_70=filter(df_moving,'MPH',60,70)\n",
    "df_60_70.describe()"
   ]
  },
  {
   "cell_type": "code",
   "execution_count": null,
   "metadata": {},
   "outputs": [],
   "source": [
    "hvexplorer = df_60_70.hvplot.explorer()\n",
    "hvexplorer"
   ]
  },
  {
   "cell_type": "code",
   "execution_count": null,
   "metadata": {},
   "outputs": [],
   "source": [
    "df_70_85=filter(df_moving,'MPH',70,85)\n",
    "df_70_85.describe()"
   ]
  },
  {
   "cell_type": "code",
   "execution_count": null,
   "metadata": {},
   "outputs": [],
   "source": [
    "hvexplorer = df_70_85.hvplot.explorer()\n",
    "hvexplorer"
   ]
  },
  {
   "cell_type": "code",
   "execution_count": null,
   "metadata": {},
   "outputs": [],
   "source": [
    "df_55_80=filter(df_moving,'MPH',55,80)\n",
    "df_55_80.describe()"
   ]
  },
  {
   "cell_type": "code",
   "execution_count": null,
   "metadata": {},
   "outputs": [],
   "source": [
    "map_55_80 = create_map(df_55_80,output_folder_path,\"map_55_80\")\n",
    "map_55_80"
   ]
  },
  {
   "cell_type": "code",
   "execution_count": null,
   "metadata": {},
   "outputs": [],
   "source": [
    "if 'fuelRailPressA CMD (inHg)' in df_moving.columns:\n",
    "    df_fuel_rail = df_55_80[['RPM','fuelRailPressA CMD (inHg)', 'fuelRailPressA (inHg)']].copy()\n",
    "    df_fuel_rail['cmd/act'] = df_fuel_rail['fuelRailPressA CMD (inHg)'] / df_fuel_rail['fuelRailPressA (inHg)'].replace(0, np.nan)\n",
    "    df_fuel_rail['cmd-act'] = df_fuel_rail['fuelRailPressA CMD (inHg)'] - df_fuel_rail['fuelRailPressA (inHg)'].replace(0, np.nan)\n",
    "    df_fuel_rail.describe()"
   ]
  },
  {
   "cell_type": "code",
   "execution_count": null,
   "metadata": {},
   "outputs": [],
   "source": [
    "hvexplorer = df_fuel_rail.hvplot.explorer()\n",
    "hvexplorer"
   ]
  },
  {
   "cell_type": "code",
   "execution_count": null,
   "metadata": {},
   "outputs": [],
   "source": [
    "hvexplorer = df_55_80.hvplot.explorer()\n",
    "hvexplorer"
   ]
  },
  {
   "cell_type": "code",
   "execution_count": null,
   "metadata": {},
   "outputs": [],
   "source": [
    "import pandas as pd\n",
    "from sklearn.linear_model import LinearRegression\n",
    "import hvplot.pandas\n",
    "\n",
    "# Sample DataFrame\n",
    "#data = {\n",
    "#    'square_footage': [1500, 1600, 1700, 1800, 1900],\n",
    "#    'num_bedrooms': [3, 3, 4, 4, 5],\n",
    "#    'age': [10, 15, 20, 25, 30],\n",
    "#    'price': [300000, 320000, 340000, 360000, 380000]\n",
    "#}\n",
    "#df = pd.DataFrame(data)\n",
    "\n",
    "# Independent variables\n",
    "X = df_clean[['RPM', 'massAirFlowRate (lb/min)']]\n",
    "#print(X.shape)\n",
    "# Dependent variable\n",
    "y = df_clean['HP']\n",
    "\n",
    "# Create and train the model\n",
    "model = LinearRegression()\n",
    "model.fit(X, y)\n",
    "\n",
    "# Make predictions\n",
    "df_clean['predicted_hp'] = model.predict(X)\n",
    "\n",
    "# Plotting the actual vs predicted prices using hvplot\n",
    "plot = df_clean.hvplot.scatter(\n",
    "    x='Time (sec)', \n",
    "    y='HP',\n",
    "    color='blue',\n",
    "    label='Actual HP'\n",
    ") * df_clean.hvplot.line(\n",
    "    x='Time (sec)',\n",
    "    y='predicted_hp',\n",
    "    color='red',\n",
    "    label='Predicted HP'\n",
    ")\n",
    "\n",
    "# Set plot size, title, labels, etc.\n",
    "plot = plot.opts(\n",
    "    title=\"Actual vs Predicted HP\", \n",
    "    xlabel=\"Square RPM\", \n",
    "    ylabel=\"HP\",\n",
    "    width=1200,  # Adjust width as needed\n",
    "    height=600  # Adjust height as needed\n",
    ")\n",
    "\n",
    "plot\n",
    "\n"
   ]
  },
  {
   "cell_type": "code",
   "execution_count": null,
   "metadata": {},
   "outputs": [],
   "source": [
    "\n",
    "df_predict_hp=df_clean[['RPM', 'massAirFlowRate (lb/min)','HP','predicted_hp']]\n",
    "df_predict_hp.reset_index()\n",
    "df_predict_hp.head()"
   ]
  },
  {
   "cell_type": "code",
   "execution_count": null,
   "metadata": {},
   "outputs": [],
   "source": [
    "hvexplorer=df_predict_hp.hvplot.explorer()\n",
    "hvexplorer"
   ]
  }
 ],
 "metadata": {
  "kernelspec": {
   "display_name": "Python 3",
   "language": "python",
   "name": "python3"
  },
  "language_info": {
   "codemirror_mode": {
    "name": "ipython",
    "version": 3
   },
   "file_extension": ".py",
   "mimetype": "text/x-python",
   "name": "python",
   "nbconvert_exporter": "python",
   "pygments_lexer": "ipython3",
   "version": "3.11.1"
  }
 },
 "nbformat": 4,
 "nbformat_minor": 2
}
