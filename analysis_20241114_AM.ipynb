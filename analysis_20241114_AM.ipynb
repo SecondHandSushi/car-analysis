{
 "cells": [
  {
   "cell_type": "code",
   "execution_count": null,
   "metadata": {},
   "outputs": [],
   "source": [
    "import pandas as pd\n",
    "import hvplot.pandas\n",
    "import holoviews as hv\n",
    "import numpy as np\n",
    "from holoviews import opts\n",
    "import panel as pn\n",
    "pn.extension()\n",
    "hv.extension('bokeh')\n",
    "import geopandas as gpd\n",
    "from shapely.geometry import Point\n",
    "import folium\n",
    "import branca.colormap as cm\n",
    "import os\n",
    "import matplotlib.pyplot as plt\n",
    "import seaborn as sns\n",
    "import plotly.express as px\n",
    "import plotly.graph_objects as go\n",
    "from jupyter_dash import JupyterDash\n",
    "from dash import Dash, dcc, html\n",
    "from dash.dependencies import Input, Output\n",
    "from IPython.core.display import HTML\n",
    "from sklearn.linear_model import LinearRegression\n"
   ]
  },
  {
   "cell_type": "code",
   "execution_count": null,
   "metadata": {},
   "outputs": [],
   "source": [
    "data_csv_file=\"data/commute/CSVLog_20241114_060356.CSV\"\n",
    "output_folder_path = 'output/date/analysis_20241114_am/'  # Change this to your folder path\n",
    "#create folder folder if it does not exist\n",
    "if not os.path.exists(output_folder_path):\n",
    "    os.makedirs(output_folder_path)"
   ]
  },
  {
   "cell_type": "code",
   "execution_count": null,
   "metadata": {},
   "outputs": [],
   "source": [
    "def filter(df,column,min,max): \n",
    "    mask = (df[f'{column}'] >= min) & (df[f'{column}'] < max)\n",
    "    df = df[mask]\n",
    "    return df"
   ]
  },
  {
   "cell_type": "code",
   "execution_count": null,
   "metadata": {},
   "outputs": [],
   "source": [
    "def create_map(df,column,output_folder_path,output_file_name):\n",
    "    df_map=df.copy()\n",
    "    map_center = [44.980164, -93.185692]\n",
    "    map = folium.Map(location=map_center, zoom_start=11)\n",
    "    coordinates = df_map[['lat', 'long', 'MPH']].values.tolist()\n",
    "    sorted_coordinates = sorted(coordinates, key=lambda x: x[2])\n",
    "    colormap = cm.LinearColormap(\n",
    "        colors=['blue', 'green', 'yellow'],  # Custom color range\n",
    "        vmin=df_map[column].min(),\n",
    "        vmax=df_map[column].max(),\n",
    "        caption=column   \n",
    "    )\n",
    "\n",
    "    colormap.add_to(map)\n",
    "\n",
    "\n",
    "\n",
    "    for i in range(len(df_map) - 1):\n",
    "        # Coordinates of the current segment\n",
    "        start = [df_map.iloc[i]['lat'], df_map.iloc[i]['long']]\n",
    "        end = [df_map.iloc[i + 1]['lat'], df_map.iloc[i + 1]['long']]\n",
    "\n",
    "        # Value for color mapping (use average or a specific value)\n",
    "        segment_value = (df_map.iloc[i][column] + df_map.iloc[i + 1][column]) / 2\n",
    "\n",
    "        # Create and add a PolyLine for each segment\n",
    "        folium.PolyLine(\n",
    "            locations=[start, end],\n",
    "            color=colormap(segment_value),  # Map value to color\n",
    "            weight=5,\n",
    "            opacity=1\n",
    "            ).add_to(map)\n",
    "\n",
    "    # Save the map to an HTML file\n",
    "    map_moving_file_path = os.path.join(output_folder_path, f'{output_file_name}.html')\n",
    "    map.save(map_moving_file_path)\n",
    "    return map"
   ]
  },
  {
   "cell_type": "code",
   "execution_count": null,
   "metadata": {},
   "outputs": [],
   "source": [
    "def clean_data(df):\n",
    "    # Round columns 'Time (sec)', ' Engine RPM (RPM)' and 2 other columns (Number of decimals: 0)\n",
    "    df = df.round({\n",
    "                'RPM': 0,\n",
    "                'Engine Power (hp)': 0,\n",
    "                'fuelRailPressA CMD (inHg)':0,\n",
    "                'fuelRailPressA (inHg)':0,\n",
    "                'Altitude (ft)':0,\n",
    "                'mpgInstant': 1,\n",
    "                'MPH': 1,\n",
    "                'relAccPedPOS (%)': 1,\n",
    "                'mpgTrip': 1,\n",
    "                'Boost (psi)':1,\n",
    "                'inManAbsPress (inHg)': 2,\n",
    "                'massAirFlowRate (lb/min)': 2,\n",
    "                'Bearing (deg)': 2,\n",
    "                'accel (ft/s²)': 2,\n",
    "                'accelAvg (ft/s²)': 2,\n",
    "                'Time (sec)': 2,\n",
    "                'distTrip (Miles)': 2,\n",
    "                'barPress (inHg)':1,\n",
    "                'alt (ft)':1,\n",
    "                'HP':1\n",
    "                })\n",
    "    return df\n",
    "\n"
   ]
  },
  {
   "cell_type": "code",
   "execution_count": null,
   "metadata": {},
   "outputs": [],
   "source": [
    "df=pd.read_csv(data_csv_file)\n",
    "df.columns = df.columns.str.strip()\n",
    "column_list=df.columns.tolist()\n",
    "#df_columns = pd.DataFrame(column_list, columns=['ColumnName'])\n",
    "#df_columns.head(20)\n",
    "formatted_columns = [f'\"{column}\",' for column in column_list]\n",
    "\n",
    "# Join them together with newlines\n",
    "formatted_string = '\\n'.join(formatted_columns)\n",
    "\n",
    "print(formatted_string)"
   ]
  },
  {
   "cell_type": "code",
   "execution_count": null,
   "metadata": {},
   "outputs": [],
   "source": [
    "df_clean = clean_data(df.copy())\n",
    "df_clean.head()"
   ]
  },
  {
   "cell_type": "code",
   "execution_count": null,
   "metadata": {},
   "outputs": [],
   "source": [
    "current_column_names=[\n",
    "       'Trip Distance (miles)', \n",
    "       'Vehicle speed (MPH)',\n",
    "       'Relative accelerator pedal position (%)',\n",
    "       \"Relative throttle position (%)\",\n",
    "       'Acceleration (ft/s²)',\n",
    "       'Acceleration (Avg) (ft/s²)',\n",
    "       'Engine Power (hp)', \n",
    "       'Engine RPM (RPM)',\n",
    "       'Mass air flow rate (lb/min)',\n",
    "       'Intake manifold absolute pressure (inHg)',\n",
    "       'Commanded fuel rail pressure A (inHg)',\n",
    "       'Fuel rail pressure A (inHg)',\n",
    "       'Ambient air temperature (°F)',\n",
    "       'Intake air temperature bank 1  sensor 1 (°F)',\n",
    "       'Intake air temperature bank 1  sensor 2 (°F)',\n",
    "       'Instant fuel economy (MPG)',\n",
    "       'Trip Fuel Economy (MPG)',\n",
    "       'Barometric pressure (inHg)',\n",
    "       'Fuel type',\n",
    "       'Hard Brake Count',\n",
    "       'Calculated load value (%)',\n",
    "       'Engine coolant temperature (°F)',\n",
    "       'Catalyst temperature (Bank 1 Sensor 1) (°F)',\n",
    "       'Engine oil temperature (°F)',\n",
    "       'Trip Fuel (gal)',\n",
    "       'Average Trip CO2 Rate (lb/mile)',\n",
    "       'Engine Torque (lb•ft)',\n",
    "       'Altitude (ft)',\n",
    "       'Latitude (deg)',\n",
    "       'Longitude (deg)',\n",
    "       'Bearing (deg)',\n",
    "       'PID refresh rate (Hz)',\n",
    "       ]\n",
    "new_column_names = [\n",
    "       'distTrip (Miles)',\n",
    "       'MPH',\n",
    "       'relAccPedPOS (%)',\n",
    "       'relThrotPOS (%)',\n",
    "       'accel (ft/s²)',\n",
    "       'accelAvg (ft/s²)',\n",
    "       'HP',\n",
    "       'RPM',\n",
    "       'massAirFlowRate (lb/min)',\n",
    "       'inManAbsPress (inHg)',\n",
    "       'fuelRailPressA CMD (inHg)',\n",
    "       'fuelRailPressA (inHg)',\n",
    "       'tempAmbAir (°F)',\n",
    "       'tempInBnk1Sens1 (°F)',\n",
    "       'tempInBnk1Sens2 (°F)',\n",
    "       'mpgInstant',\n",
    "       'mpgTrip',\n",
    "       'barPress (inHg)',\n",
    "       'fuelType',\n",
    "       'brkHardCnt',\n",
    "       'loadValCalc (%)',\n",
    "       'tempCool (°F)',\n",
    "       'tempCatBnk1Sens1 (°F)',\n",
    "       'tempOil (°F)',\n",
    "       'fuelTrip (gal)',\n",
    "       'avgTripCO2Rate (lb/mile)',\n",
    "       'Torque (lb•ft)',\n",
    "       'alt (ft)',       \n",
    "       'lat',\n",
    "       'long',\n",
    "       'Bearing (deg)',\n",
    "       'upRate (Hz)',\n",
    "       ]\n",
    "\n",
    "rename_dict = dict(zip(current_column_names, new_column_names))\n",
    "df.head()"
   ]
  },
  {
   "cell_type": "code",
   "execution_count": null,
   "metadata": {},
   "outputs": [],
   "source": [
    "df = df.rename(columns=rename_dict)\n",
    "df.head()"
   ]
  },
  {
   "cell_type": "code",
   "execution_count": null,
   "metadata": {},
   "outputs": [],
   "source": [
    "column_order = [\n",
    "       'Time (sec)',\n",
    "       'distTrip (Miles)',\n",
    "       'MPH',\n",
    "       'relAccPedPOS (%)',\n",
    "       'relThrotPOS (%)',\n",
    "       'accel (ft/s²)',\n",
    "       'accelAvg (ft/s²)',\n",
    "       'HP',\n",
    "       'Torque (lb•ft)',\n",
    "       'RPM',\n",
    "       'Boost (psi)',\n",
    "       'massAirFlowRate (lb/min)',\n",
    "       'inManAbsPress (inHg)',\n",
    "       'fuelRailPressA CMD (inHg)',\n",
    "       'fuelRailPressA (inHg)',\n",
    "       'fuelRailPressA Diff',\n",
    "       'tempAmbAir (°F)',\n",
    "       'tempInBnk1Sens1 (°F)',\n",
    "       'tempInBnk1Sens2 (°F)',\n",
    "       'tempCool (°F)',\n",
    "       'tempCatBnk1Sens1 (°F)',\n",
    "       'tempOil (°F)',\n",
    "       'mpgInstant',\n",
    "       'mpgTrip',\n",
    "       'fuelType',\n",
    "       'brkHardCnt',\n",
    "       'loadValCalc (%)',\n",
    "       'fuelTrip (gal)',\n",
    "       'avgTripCO2Rate (lb/mile)',\n",
    "       'barPress (inHg)',\n",
    "       'alt (ft)',\n",
    "       'lat',\n",
    "       'long',\n",
    "       'Bear (deg)',\n",
    "       'reRate (Hz)',\n",
    "\n",
    "       ]"
   ]
  },
  {
   "cell_type": "code",
   "execution_count": null,
   "metadata": {},
   "outputs": [],
   "source": [
    "df['fuelRailPressA Diff']= df['fuelRailPressA (inHg)']-df['fuelRailPressA CMD (inHg)']\n"
   ]
  },
  {
   "cell_type": "code",
   "execution_count": null,
   "metadata": {},
   "outputs": [],
   "source": [
    "existing_columns = [col for col in column_order if col in df.columns]\n",
    "df = df[existing_columns]\n"
   ]
  },
  {
   "cell_type": "code",
   "execution_count": null,
   "metadata": {},
   "outputs": [],
   "source": [
    "# To avoid math errors in situations where values = 0\n",
    "df['Boost (psi)'] = df['Boost (psi)'].bfill().infer_objects()\n",
    "df.loc[df['Boost (psi)'] == 0, 'Boost (psi)'] = 0.01\n",
    "\n",
    "df.head(2)\n"
   ]
  },
  {
   "cell_type": "code",
   "execution_count": null,
   "metadata": {},
   "outputs": [],
   "source": [
    "df_clean = clean_data(df.copy())\n",
    "df_clean.head(2)"
   ]
  },
  {
   "cell_type": "code",
   "execution_count": null,
   "metadata": {},
   "outputs": [],
   "source": [
    "df_clean.describe()"
   ]
  },
  {
   "cell_type": "code",
   "execution_count": null,
   "metadata": {},
   "outputs": [],
   "source": [
    "df_clean.describe()"
   ]
  },
  {
   "cell_type": "code",
   "execution_count": null,
   "metadata": {},
   "outputs": [],
   "source": [
    "#create dataframe where vehicle is stationary\n",
    "df_stationary = df_clean[df_clean['MPH'] == 0]"
   ]
  },
  {
   "cell_type": "code",
   "execution_count": null,
   "metadata": {},
   "outputs": [],
   "source": [
    "# Shift the 'Vehicle speed (MPH)' column\n",
    "df_clean['next_mph'] = df_clean['MPH'].shift(-1)\n",
    "\n",
    "# Create the mask\n",
    "mask = (df_clean['MPH'] > 0) | ((df_clean['MPH'] == 0) & (df_clean['next_mph'] > 0))\n",
    "mask = mask & df_clean['next_mph'].notna()\n",
    "# Filter the DataFrame and drop the 'next_mph' column\n",
    "df_moving = df_clean[mask].drop(columns=['next_mph'])\n",
    "df_moving.describe()\n"
   ]
  },
  {
   "cell_type": "code",
   "execution_count": null,
   "metadata": {},
   "outputs": [],
   "source": [
    "window_avg=50"
   ]
  },
  {
   "cell_type": "code",
   "execution_count": null,
   "metadata": {},
   "outputs": [],
   "source": [
    "df_moving['fuelRailPressA Diff rolling_avg'] =      df_moving['fuelRailPressA Diff'].rolling(window=window_avg).mean()\n",
    "df_moving['RPM rolling_avg'] =                      df_moving['RPM'].rolling(window=window_avg).mean()\n",
    "df_moving['massAirFlowRate (lb/min) rolling_avg'] = df_moving['massAirFlowRate (lb/min)'].rolling(window=window_avg).mean()\n",
    "df_moving['inManAbsPress (inHg) rolling_avg'] =     df_moving['inManAbsPress (inHg)'].rolling(window=window_avg).mean()\n",
    "df_moving['relAccPedPOS (%) rolling_avg'] =         df_moving['relAccPedPOS (%)'].rolling(window=window_avg).mean()\n",
    "df_moving['Boost (psi) rolling_avg'] =              df_moving['Boost (psi)'].rolling(window=window_avg).mean()\n",
    "df_moving['MPH rolling_avg'] =                      df_moving['MPH'].rolling(window=window_avg).mean()\n",
    "df_moving['Torque (lb•ft) rolling_avg'] =           df_moving['Torque (lb•ft)'].rolling(window=window_avg).mean()\n",
    "df_moving['HP rolling_avg'] =                       df_moving['HP'].rolling(window=window_avg).mean()\n",
    "df_moving=df_moving.dropna()\n",
    "df_moving.head()\n"
   ]
  },
  {
   "cell_type": "code",
   "execution_count": null,
   "metadata": {},
   "outputs": [],
   "source": [
    "plot_rolling_avg = df_moving.hvplot.line(\n",
    "    x='Time (sec)',\n",
    "    y='Torque (lb•ft) rolling_avg',\n",
    "    color='blue',\n",
    "    legend='bottom_right'\n",
    ")\n",
    "\n",
    "plot_original = df_moving.hvplot.line(\n",
    "    x='Time (sec)',\n",
    "    y='Torque (lb•ft)',\n",
    "    color='gray',\n",
    "    alpha=0.4,\n",
    "    legend='bottom_right'\n",
    ")\n",
    "\n",
    "# Overlay the two plots\n",
    "combined_plot = plot_original * plot_rolling_avg\n",
    "combined_plot"
   ]
  },
  {
   "cell_type": "code",
   "execution_count": null,
   "metadata": {},
   "outputs": [],
   "source": [
    "plot_rolling_avg = df_moving.hvplot.line(\n",
    "    x='Time (sec)',\n",
    "    y='HP rolling_avg',\n",
    "    color='blue',\n",
    "    legend='bottom_right'\n",
    ")\n",
    "\n",
    "plot_original = df_moving.hvplot.line(\n",
    "    x='Time (sec)',\n",
    "    y='HP',\n",
    "    color='gray',\n",
    "    alpha=0.4,\n",
    "    legend='bottom_right'\n",
    ")\n",
    "\n",
    "# Overlay the two plots\n",
    "combined_plot = plot_original * plot_rolling_avg\n",
    "combined_plot"
   ]
  },
  {
   "cell_type": "code",
   "execution_count": null,
   "metadata": {},
   "outputs": [],
   "source": [
    "plot_rolling_avg = df_moving.hvplot.line(\n",
    "    x='Time (sec)',\n",
    "    y='MPH rolling_avg',\n",
    "    color='blue',\n",
    "    legend='bottom_right'\n",
    ")\n",
    "\n",
    "plot_original = df_moving.hvplot.line(\n",
    "    x='Time (sec)',\n",
    "    y='MPH',\n",
    "    color='gray',\n",
    "    alpha=0.4,\n",
    "    legend='bottom_right'\n",
    ")\n",
    "\n",
    "# Overlay the two plots\n",
    "combined_plot = plot_original * plot_rolling_avg\n",
    "combined_plot"
   ]
  },
  {
   "cell_type": "code",
   "execution_count": null,
   "metadata": {},
   "outputs": [],
   "source": [
    "plot_rolling_avg = df_moving.hvplot.line(\n",
    "    x='Time (sec)',\n",
    "    y='Boost (psi) rolling_avg',\n",
    "    color='blue',\n",
    "    legend='bottom_right'\n",
    ")\n",
    "\n",
    "plot_original = df_moving.hvplot.line(\n",
    "    x='Time (sec)',\n",
    "    y='Boost (psi)',\n",
    "    color='gray',\n",
    "    alpha=0.4,\n",
    "    legend='bottom_right'\n",
    ")\n",
    "\n",
    "# Overlay the two plots\n",
    "combined_plot = plot_original * plot_rolling_avg\n",
    "combined_plot"
   ]
  },
  {
   "cell_type": "code",
   "execution_count": null,
   "metadata": {},
   "outputs": [],
   "source": [
    "plot_rolling_avg = df_moving.hvplot.line(\n",
    "    x='Time (sec)',\n",
    "    y='relAccPedPOS (%) rolling_avg',\n",
    "    color='blue',\n",
    "    legend='bottom_right'\n",
    ")\n",
    "\n",
    "plot_original = df_moving.hvplot.line(\n",
    "    x='Time (sec)',\n",
    "    y='relAccPedPOS (%)',\n",
    "    color='gray',\n",
    "    alpha=0.4,\n",
    "    legend='bottom_right'\n",
    ")\n",
    "\n",
    "# Overlay the two plots\n",
    "combined_plot = plot_original * plot_rolling_avg\n",
    "combined_plot\n"
   ]
  },
  {
   "cell_type": "code",
   "execution_count": null,
   "metadata": {},
   "outputs": [],
   "source": [
    "plot_rolling_avg = df_moving.hvplot.line(\n",
    "    x='Time (sec)',\n",
    "    y='inManAbsPress (inHg) rolling_avg',\n",
    "    color='blue',\n",
    "    legend='bottom_right'\n",
    ")\n",
    "\n",
    "plot_original = df_moving.hvplot.line(\n",
    "    x='Time (sec)',\n",
    "    y='inManAbsPress (inHg)',\n",
    "    color='gray',\n",
    "    alpha=0.4,\n",
    "    legend='bottom_right'\n",
    ")\n",
    "\n",
    "# Overlay the two plots\n",
    "combined_plot = plot_original * plot_rolling_avg\n",
    "combined_plot"
   ]
  },
  {
   "cell_type": "code",
   "execution_count": null,
   "metadata": {},
   "outputs": [],
   "source": [
    "plot_rolling_avg = df_moving.hvplot.line(\n",
    "    x='Time (sec)',\n",
    "    y='massAirFlowRate (lb/min) rolling_avg',\n",
    "    color='blue',\n",
    "    legend='bottom_right'\n",
    ")\n",
    "\n",
    "plot_original = df_moving.hvplot.line(\n",
    "    x='Time (sec)',\n",
    "    y='massAirFlowRate (lb/min)',\n",
    "    color='gray',\n",
    "    alpha=0.4,\n",
    "    legend='bottom_right'\n",
    ")\n",
    "\n",
    "# Overlay the two plots\n",
    "combined_plot = plot_original * plot_rolling_avg\n",
    "combined_plot"
   ]
  },
  {
   "cell_type": "code",
   "execution_count": null,
   "metadata": {},
   "outputs": [],
   "source": [
    "plot_rolling_avg = df_moving.hvplot.line(\n",
    "    x='Time (sec)',\n",
    "    y='RPM rolling_avg',\n",
    "    color='blue',\n",
    "    legend='bottom_right'\n",
    ")\n",
    "\n",
    "plot_original = df_moving.hvplot.line(\n",
    "    x='Time (sec)',\n",
    "    y='RPM',\n",
    "    color='gray',\n",
    "    alpha=0.4,\n",
    "    legend='bottom_right'\n",
    ")\n",
    "\n",
    "# Overlay the two plots\n",
    "combined_plot = plot_original * plot_rolling_avg\n",
    "combined_plot"
   ]
  },
  {
   "cell_type": "code",
   "execution_count": null,
   "metadata": {},
   "outputs": [],
   "source": [
    "\n",
    "plot = df_moving.hvplot(\n",
    "    kind='line',\n",
    "    x='Time (sec)',           # x-axis column\n",
    "    y='fuelRailPressA Diff rolling_avg',   # y-axis column\n",
    "    legend='bottom_right',  # Position the legend\n",
    "    widget_location='bottom' # Widget for interaction at the bottom\n",
    "    )\n",
    "plot\n",
    "\n"
   ]
  },
  {
   "cell_type": "code",
   "execution_count": null,
   "metadata": {},
   "outputs": [],
   "source": [
    "plot = df_moving.hvplot(\n",
    "    kind='line',\n",
    "    x='distTrip (Miles)',   # X-axis column\n",
    "    y='alt (ft)',           # Y-axis column\n",
    "    legend='bottom_right',  # Position the legend\n",
    "    widget_location='bottom' # Widget for interaction at the bottom\n",
    "    )\n",
    "plot"
   ]
  },
  {
   "cell_type": "code",
   "execution_count": null,
   "metadata": {},
   "outputs": [],
   "source": [
    "df_0_10=filter(df_moving,'MPH',0,10)\n",
    "df_0_10.describe()\n"
   ]
  },
  {
   "cell_type": "code",
   "execution_count": null,
   "metadata": {},
   "outputs": [],
   "source": [
    "hvexplorer = df_0_10.hvplot.explorer()\n",
    "hvexplorer"
   ]
  },
  {
   "cell_type": "code",
   "execution_count": null,
   "metadata": {},
   "outputs": [],
   "source": [
    "df_10_20=filter(df_moving,'MPH',10,20)\n",
    "df_10_20.describe()"
   ]
  },
  {
   "cell_type": "code",
   "execution_count": null,
   "metadata": {},
   "outputs": [],
   "source": [
    "hvexplorer = df_10_20.hvplot.explorer()\n",
    "hvexplorer"
   ]
  },
  {
   "cell_type": "code",
   "execution_count": null,
   "metadata": {},
   "outputs": [],
   "source": [
    "df_20_30=filter(df_moving,'MPH',20,30)\n",
    "df_20_30.describe()\n"
   ]
  },
  {
   "cell_type": "code",
   "execution_count": null,
   "metadata": {},
   "outputs": [],
   "source": [
    "hvexplorer = df_20_30.hvplot.explorer()\n",
    "hvexplorer\n"
   ]
  },
  {
   "cell_type": "code",
   "execution_count": null,
   "metadata": {},
   "outputs": [],
   "source": [
    "df_30_40=filter(df_moving,'MPH',30,40)\n",
    "df_30_40.describe()"
   ]
  },
  {
   "cell_type": "code",
   "execution_count": null,
   "metadata": {},
   "outputs": [],
   "source": [
    "hvexplorer = df_30_40.hvplot.explorer()\n",
    "hvexplorer"
   ]
  },
  {
   "cell_type": "code",
   "execution_count": null,
   "metadata": {},
   "outputs": [],
   "source": [
    "df_40_50=filter(df_moving,'MPH',40,50)\n",
    "df_40_50.describe()"
   ]
  },
  {
   "cell_type": "code",
   "execution_count": null,
   "metadata": {},
   "outputs": [],
   "source": [
    "hvexplorer = df_40_50.hvplot.explorer()\n",
    "hvexplorer"
   ]
  },
  {
   "cell_type": "code",
   "execution_count": null,
   "metadata": {},
   "outputs": [],
   "source": [
    "df_50_60=filter(df_moving,'MPH',50,60)\n",
    "df_50_60.describe()"
   ]
  },
  {
   "cell_type": "code",
   "execution_count": null,
   "metadata": {},
   "outputs": [],
   "source": [
    "hvexplorer = df_50_60.hvplot.explorer()\n",
    "hvexplorer"
   ]
  },
  {
   "cell_type": "code",
   "execution_count": null,
   "metadata": {},
   "outputs": [],
   "source": [
    "df_60_70=filter(df_moving,'MPH',60,70)\n",
    "df_60_70.describe()"
   ]
  },
  {
   "cell_type": "code",
   "execution_count": null,
   "metadata": {},
   "outputs": [],
   "source": [
    "hvexplorer = df_60_70.hvplot.explorer()\n",
    "hvexplorer"
   ]
  },
  {
   "cell_type": "code",
   "execution_count": null,
   "metadata": {},
   "outputs": [],
   "source": [
    "df_70_85=filter(df_moving,'MPH',70,85)\n",
    "df_70_85.describe()"
   ]
  },
  {
   "cell_type": "code",
   "execution_count": null,
   "metadata": {},
   "outputs": [],
   "source": [
    "hvexplorer = df_70_85.hvplot.explorer()\n",
    "hvexplorer"
   ]
  },
  {
   "cell_type": "code",
   "execution_count": null,
   "metadata": {},
   "outputs": [],
   "source": [
    "df_55_80=filter(df_moving,'MPH',55,80)\n",
    "df_55_80.describe()"
   ]
  },
  {
   "cell_type": "code",
   "execution_count": null,
   "metadata": {},
   "outputs": [],
   "source": [
    "hvexplorer = df_55_80.hvplot.explorer()\n",
    "hvexplorer"
   ]
  },
  {
   "cell_type": "markdown",
   "metadata": {},
   "source": []
  },
  {
   "cell_type": "code",
   "execution_count": null,
   "metadata": {},
   "outputs": [],
   "source": [
    "map_55_80 = create_map(df_55_80,'MPH rolling_avg',output_folder_path,\"map_55_80\")\n",
    "map_55_80"
   ]
  },
  {
   "cell_type": "code",
   "execution_count": null,
   "metadata": {},
   "outputs": [],
   "source": [
    "map_55_80 = create_map(df_55_80,'alt (ft)',output_folder_path,\"map_55_80\")\n",
    "map_55_80"
   ]
  },
  {
   "cell_type": "code",
   "execution_count": null,
   "metadata": {},
   "outputs": [],
   "source": [
    "if 'fuelRailPressA CMD (inHg)' in df_moving.columns:\n",
    "    df_fuel_rail = df_55_80[['RPM','fuelRailPressA CMD (inHg)', 'fuelRailPressA (inHg)']].copy()\n",
    "    df_fuel_rail['cmd/act'] = df_fuel_rail['fuelRailPressA CMD (inHg)'] / df_fuel_rail['fuelRailPressA (inHg)'].replace(0, np.nan)\n",
    "    df_fuel_rail['cmd-act'] = df_fuel_rail['fuelRailPressA CMD (inHg)'] - df_fuel_rail['fuelRailPressA (inHg)'].replace(0, np.nan)\n",
    "    df_fuel_rail.describe()"
   ]
  },
  {
   "cell_type": "code",
   "execution_count": null,
   "metadata": {},
   "outputs": [],
   "source": [
    "hvexplorer = df_fuel_rail.hvplot.explorer()\n",
    "hvexplorer"
   ]
  },
  {
   "cell_type": "code",
   "execution_count": null,
   "metadata": {},
   "outputs": [],
   "source": [
    "hvexplorer = df_55_80.hvplot.explorer()\n",
    "hvexplorer"
   ]
  },
  {
   "cell_type": "code",
   "execution_count": null,
   "metadata": {},
   "outputs": [],
   "source": [
    "# Independent variables\n",
    "X = df_moving[['RPM rolling_avg', 'massAirFlowRate (lb/min) rolling_avg']]\n",
    "#print(X.shape)\n",
    "# Dependent variable\n",
    "y = df_moving['HP rolling_avg']\n",
    "\n",
    "# Create and train the model\n",
    "model = LinearRegression()\n",
    "model.fit(X, y)\n",
    "\n",
    "# Make predictions\n",
    "df_moving['predicted_hp'] = model.predict(X)\n",
    "\n",
    "# Plotting the actual vs predicted prices using hvplot\n",
    "plot = df_moving.hvplot.scatter(\n",
    "    x='Time (sec)', \n",
    "    y='HP rolling_avg',\n",
    "    color='blue',\n",
    "    label='Actual HP'\n",
    ") * df_moving.hvplot.line(\n",
    "    x='Time (sec)',\n",
    "    y='predicted_hp',\n",
    "    color='red',\n",
    "    label='Predicted HP'\n",
    ")\n",
    "\n",
    "# Set plot size, title, labels, etc.\n",
    "plot = plot.opts(\n",
    "    title=\"Actual vs Predicted HP\", \n",
    "    xlabel=\"Square RPM\", \n",
    "    ylabel=\"HP\",\n",
    "    width=1200,  # Adjust width as needed\n",
    "    height=600  # Adjust height as needed\n",
    ")\n",
    "\n",
    "plot\n",
    "\n"
   ]
  },
  {
   "cell_type": "code",
   "execution_count": null,
   "metadata": {},
   "outputs": [],
   "source": [
    "import matplotlib.pyplot as plt\n",
    "import numpy as np\n",
    "\n",
    "# Assuming df_moving is already defined and contains the necessary data\n",
    "\n",
    "# Independent variables\n",
    "X = df_moving[['RPM rolling_avg', 'massAirFlowRate (lb/min) rolling_avg']]\n",
    "# Dependent variable\n",
    "y = df_moving['HP rolling_avg']\n",
    "\n",
    "# Create and train the model\n",
    "model = LinearRegression()\n",
    "model.fit(X, y)\n",
    "\n",
    "# Make predictions\n",
    "df_moving['predicted_hp'] = model.predict(X)\n",
    "\n",
    "# Plotting the actual vs predicted prices using matplotlib\n",
    "plt.figure(figsize=(12, 6))\n",
    "\n",
    "# Scatter plot for actual HP\n",
    "plt.scatter(df_moving['Time (sec)'], df_moving['HP rolling_avg'], color='blue', label='Actual HP')\n",
    "\n",
    "# Line plot for predicted HP\n",
    "plt.plot(df_moving['Time (sec)'], df_moving['predicted_hp'], color='red', label='Predicted HP')\n",
    "\n",
    "# Set plot size, title, labels, etc.\n",
    "plt.title(\"Actual vs Predicted HP\")\n",
    "plt.xlabel(\"Time (sec)\")\n",
    "plt.ylabel(\"HP\")\n",
    "plt.legend()\n",
    "plt.show()\n"
   ]
  },
  {
   "cell_type": "code",
   "execution_count": null,
   "metadata": {},
   "outputs": [],
   "source": [
    "# Plotting HP vs RPM rolling_avg\n",
    "plt.figure(figsize=(12, 6))\n",
    "plt.scatter(df_moving['RPM rolling_avg'], df_moving['HP rolling_avg'], color='blue', label='Actual HP')\n",
    "plt.plot(df_moving['RPM rolling_avg'], model.predict(X), color='red', label='Predicted HP')\n",
    "plt.title(\"HP vs RPM rolling_avg\")\n",
    "plt.xlabel(\"RPM rolling_avg\")\n",
    "plt.ylabel(\"HP\")\n",
    "plt.legend()\n",
    "plt.show()\n",
    "\n",
    "# Plotting HP vs massAirFlowRate (lb/min) rolling_avg\n",
    "plt.figure(figsize=(12, 6))\n",
    "plt.scatter(df_moving['massAirFlowRate (lb/min) rolling_avg'], df_moving['HP rolling_avg'], color='blue', label='Actual HP')\n",
    "plt.plot(df_moving['massAirFlowRate (lb/min) rolling_avg'], model.predict(X), color='red', label='Predicted HP')\n",
    "plt.title(\"HP vs massAirFlowRate (lb/min) rolling_avg\")\n",
    "plt.xlabel(\"massAirFlowRate (lb/min) rolling_avg\")\n",
    "plt.ylabel(\"HP\")\n",
    "plt.legend()\n",
    "plt.show()\n"
   ]
  },
  {
   "cell_type": "code",
   "execution_count": null,
   "metadata": {},
   "outputs": [],
   "source": [
    "hvexplorer=df_predict_hp.hvplot.explorer()\n",
    "hvexplorer"
   ]
  }
 ],
 "metadata": {
  "kernelspec": {
   "display_name": "Python 3",
   "language": "python",
   "name": "python3"
  },
  "language_info": {
   "codemirror_mode": {
    "name": "ipython",
    "version": 3
   },
   "file_extension": ".py",
   "mimetype": "text/x-python",
   "name": "python",
   "nbconvert_exporter": "python",
   "pygments_lexer": "ipython3",
   "version": "3.11.1"
  }
 },
 "nbformat": 4,
 "nbformat_minor": 2
}
