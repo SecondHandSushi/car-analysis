{
 "cells": [
  {
   "cell_type": "code",
   "execution_count": 2,
   "metadata": {},
   "outputs": [
    {
     "name": "stdout",
     "output_type": "stream",
     "text": [
      "Processed: CSVLog_20241004_143637.csv\n",
      "Processed: CSVLog_20241007_143013.csv\n",
      "Processed: CSVLog_20241008_143216.csv\n",
      "Processed: CSVLog_20241009_143318.csv\n",
      "Processed: CSVLog_20241010_143828.csv\n",
      "Processed: CSVLog_20241011_141755.csv\n",
      "Processed: CSVLog_20241014_143451.csv\n",
      "Processed: CSVLog_20241015_143310.csv\n",
      "All files processed.\n"
     ]
    }
   ],
   "source": [
    "import os\n",
    "import pandas as pd\n",
    "\n",
    "# Use the current directory\n",
    "directory = '.'  \n",
    "\n",
    "# Iterate over all files in the directory\n",
    "for filename in os.listdir(directory):\n",
    "    # Check if the file is a CSV\n",
    "    if filename.endswith('.csv'):\n",
    "        file_path = os.path.join(directory, filename)\n",
    "        \n",
    "        try:\n",
    "            # Read the CSV file, skip the first row\n",
    "            df = pd.read_csv(file_path, header=None, skiprows=1)\n",
    "            \n",
    "            # Save the modified DataFrame back to the same file\n",
    "            df.to_csv(file_path, index=False, header=False)\n",
    "            print(f\"Processed: {filename}\")\n",
    "        \n",
    "        except Exception as e:\n",
    "            print(f\"Error processing {filename}: {e}\")\n",
    "\n",
    "print(\"All files processed.\")\n"
   ]
  }
 ],
 "metadata": {
  "kernelspec": {
   "display_name": "Python 3",
   "language": "python",
   "name": "python3"
  },
  "language_info": {
   "codemirror_mode": {
    "name": "ipython",
    "version": 3
   },
   "file_extension": ".py",
   "mimetype": "text/x-python",
   "name": "python",
   "nbconvert_exporter": "python",
   "pygments_lexer": "ipython3",
   "version": "3.11.1"
  }
 },
 "nbformat": 4,
 "nbformat_minor": 2
}
