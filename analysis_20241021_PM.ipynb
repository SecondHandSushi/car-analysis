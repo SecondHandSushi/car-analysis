{
 "cells": [
  {
   "cell_type": "code",
   "execution_count": null,
   "metadata": {},
   "outputs": [],
   "source": [
    "import pandas as pd\n",
    "import hvplot.pandas\n",
    "import holoviews as hv\n",
    "import numpy as np\n",
    "from holoviews import opts\n",
    "import panel as pn\n",
    "pn.extension()\n",
    "hv.extension('bokeh')\n",
    "import geopandas as gpd\n",
    "from shapely.geometry import Point\n",
    "import folium\n",
    "import branca.colormap as cm\n",
    "import os\n",
    "import matplotlib.pyplot as plt\n",
    "import seaborn as sns\n",
    "import plotly.express as px\n",
    "import plotly.graph_objects as go\n",
    "from jupyter_dash import JupyterDash\n",
    "from dash import Dash, dcc, html\n",
    "from dash.dependencies import Input, Output\n",
    "from IPython.core.display import HTML\n"
   ]
  },
  {
   "cell_type": "code",
   "execution_count": null,
   "metadata": {},
   "outputs": [],
   "source": [
    "data_csv_file=\"data/commute/CSVLog_20241021_142957.CSV\"\n",
    "output_folder_path = 'output/date/analysis_20241021_pm/'  # Change this to your folder path\n",
    "#create folder folder if it does not exist\n",
    "if not os.path.exists(output_folder_path):\n",
    "    os.makedirs(output_folder_path)"
   ]
  },
  {
   "cell_type": "code",
   "execution_count": null,
   "metadata": {},
   "outputs": [],
   "source": [
    "def filter(df,column,min,max): \n",
    "    mask = (df[f'{column}'] >= min) & (df[f'{column}'] < max)\n",
    "    df = df[mask]\n",
    "    return df"
   ]
  },
  {
   "cell_type": "code",
   "execution_count": null,
   "metadata": {},
   "outputs": [],
   "source": [
    "def create_map(df,output_folder_path,output_file_name):\n",
    "    df_map=df.copy()\n",
    "    map_center = [44.980164, -93.185692]\n",
    "    map = folium.Map(location=map_center, zoom_start=11)\n",
    "    coordinates = df_map[['lat', 'long', 'MPH']].values.tolist()\n",
    "    sorted_coordinates = sorted(coordinates, key=lambda x: x[2])\n",
    "    colormap = cm.LinearColormap(\n",
    "        colors=['blue', 'green', 'yellow', 'red'],  # Custom color range\n",
    "        vmin=df_map['MPH'].min(),\n",
    "        vmax=df_map['MPH'].max(),\n",
    "        caption='MPH'   \n",
    "    )\n",
    "\n",
    "    colormap.add_to(map)\n",
    "\n",
    "\n",
    "\n",
    "    for i in range(len(df_map) - 1):\n",
    "        # Coordinates of the current segment\n",
    "        start = [df_map.iloc[i]['lat'], df_map.iloc[i]['long']]\n",
    "        end = [df_map.iloc[i + 1]['lat'], df_map.iloc[i + 1]['long']]\n",
    "\n",
    "        # Value for color mapping (use average or a specific value)\n",
    "        segment_value = (df_map.iloc[i]['MPH'] + df_map.iloc[i + 1]['MPH']) / 2\n",
    "\n",
    "        # Create and add a PolyLine for each segment\n",
    "        folium.PolyLine(\n",
    "            locations=[start, end],\n",
    "            color=colormap(segment_value),  # Map value to color\n",
    "            weight=5,\n",
    "            opacity=1\n",
    "            ).add_to(map)\n",
    "\n",
    "    # Save the map to an HTML file\n",
    "    map_moving_file_path = os.path.join(output_folder_path, f'{output_file_name}.html')\n",
    "    map.save(map_moving_file_path)\n",
    "    return map"
   ]
  },
  {
   "cell_type": "code",
   "execution_count": null,
   "metadata": {},
   "outputs": [],
   "source": [
    "df=pd.read_csv(data_csv_file)\n",
    "df.columns = df.columns.str.strip()\n",
    "column_list=df.columns.tolist()\n",
    "print(column_list)"
   ]
  },
  {
   "cell_type": "code",
   "execution_count": null,
   "metadata": {},
   "outputs": [],
   "source": [
    "df=df[['Time (sec)',\n",
    "       'Trip Distance (miles)', \n",
    "       'Vehicle speed (MPH)',\n",
    "       'Relative accelerator pedal position (%)',\n",
    "       'Acceleration (ft/s²)',\n",
    "       'Acceleration (Avg) (ft/s²)',\n",
    "       'Engine Power (hp)', \n",
    "       'Engine RPM (RPM)',\n",
    "       'Boost (psi)',\n",
    "       'Mass air flow rate (lb/min)',\n",
    "       'Intake manifold absolute pressure (inHg)',\n",
    "       'Commanded fuel rail pressure A (inHg)',\n",
    "       'Fuel rail pressure A (inHg)',\n",
    "       'Ambient air temperature (°F)',\n",
    "       'Intake air temperature bank 1  sensor 1 (°F)',\n",
    "       'Intake air temperature bank 1  sensor 2 (°F)',\n",
    "       'Instant fuel economy (MPG)',\n",
    "       'Trip Fuel Economy (MPG)',\n",
    "       'Barometric pressure (inHg)',\n",
    "       'Altitude (ft)',\n",
    "       'Latitude (deg)',\n",
    "       'Longitude (deg)']]\n",
    "df.head()"
   ]
  },
  {
   "cell_type": "code",
   "execution_count": null,
   "metadata": {},
   "outputs": [],
   "source": [
    "# To avoid math errors in situations where values = 0\n",
    "df['Boost (psi)'] = df['Boost (psi)'].bfill().infer_objects()\n",
    "df.loc[df['Boost (psi)'] == 0, 'Boost (psi)'] = 0.01\n",
    "\n",
    "df.head()\n"
   ]
  },
  {
   "cell_type": "code",
   "execution_count": null,
   "metadata": {},
   "outputs": [],
   "source": [
    "def clean_data(df):\n",
    "    # Round columns 'Time (sec)', ' Engine RPM (RPM)' and 2 other columns (Number of decimals: 0)\n",
    "    df = df.rename(columns={\n",
    "                'Latitude (deg)': 'lat',\n",
    "                'Longitude (deg)': 'long',\n",
    "                'Engine RPM (RPM)': 'RPM',\n",
    "                'Trip Fuel Economy (MPG)': 'mpgTrip',\n",
    "                'Relative accelerator pedal position (%)': 'relAccPedPOS (%)',\n",
    "                'Instant fuel economy (MPG)': 'mpgInstant',\n",
    "                'Intake manifold absolute pressure (inHg)': 'inManAbsPress (inHg)',\n",
    "                'Fuel rail pressure A (inHg)': 'fuelRailPressA (inHg)',\n",
    "                'Commanded fuel rail pressure A (inHg)': 'fuelRailPressA CMD (inHg)',\n",
    "                'Vehicle speed (MPH)': 'MPH',\n",
    "                'Acceleration (ft/s²)': 'accel (ft/s²)',\n",
    "                'Acceleration (Avg) (ft/s²)': 'accelAvg (ft/s²)',\n",
    "                'Mass air flow rate (lb/min)': 'massAirFlowRate (lb/min)',\n",
    "                'Ambient air temperature (°F)':'tempAmbAir (°F)',\n",
    "                'Intake air temperature bank 1  sensor 1 (°F)': 'tempInBnk1Sens1 (°F)',\n",
    "                'Intake air temperature bank 1  sensor 2 (°F)': 'tempInBnk1Sens2 (°F)',\n",
    "                'Barometric pressure (inHg)':'barPress (inHg)',\n",
    "                'Trip Distance (miles)':'distTrip (Miles)',\n",
    "                'Altitude (ft)':'alt (ft)',\n",
    "                'Engine Power (hp)':'HP'\n",
    "                })\n",
    "    df = df.round({\n",
    "                'RPM': 0,\n",
    "                'Engine Power (hp)': 0,\n",
    "                'fuelRailPressA CMD (inHg)':0,\n",
    "                'fuelRailPressA (inHg)':0,\n",
    "                'Altitude (ft)':0,\n",
    "                'mpgInstant': 1,\n",
    "                'MPH': 1,\n",
    "                'relAccPedPOS (%)': 1,\n",
    "                'mpgTrip': 1,\n",
    "                'Boost (psi)':1,\n",
    "                'inManAbsPress (inHg)': 2,\n",
    "                'massAirFlowRate (lb/min)': 2,\n",
    "                'Bearing (deg)': 2,\n",
    "                'accel (ft/s²)': 2,\n",
    "                'accelAvg (ft/s²)': 2,\n",
    "                'Time (sec)': 2,\n",
    "                'distTrip (Miles)': 2,\n",
    "                'barPress (inHg)':1,\n",
    "                'alt (ft)':1,\n",
    "                'HP':1\n",
    "                })\n",
    "    return df\n",
    "\n",
    "df_clean = clean_data(df.copy())\n",
    "df_clean.head()"
   ]
  },
  {
   "cell_type": "code",
   "execution_count": null,
   "metadata": {},
   "outputs": [],
   "source": [
    "df_clean.describe()"
   ]
  },
  {
   "cell_type": "code",
   "execution_count": null,
   "metadata": {},
   "outputs": [],
   "source": [
    "df_clean.columns"
   ]
  },
  {
   "cell_type": "code",
   "execution_count": null,
   "metadata": {},
   "outputs": [],
   "source": [
    "#create dataframe where vehicle is stationary\n",
    "df_stationary = df_clean[df_clean['MPH'] == 0]"
   ]
  },
  {
   "cell_type": "code",
   "execution_count": null,
   "metadata": {},
   "outputs": [],
   "source": [
    "# Shift the 'Vehicle speed (MPH)' column\n",
    "df_clean['next_mph'] = df_clean['MPH'].shift(-1)\n",
    "\n",
    "# Create the mask\n",
    "mask = (df_clean['MPH'] > 0) | ((df_clean['MPH'] == 0) & (df_clean['next_mph'] > 0))\n",
    "mask = mask & df_clean['next_mph'].notna()\n",
    "# Filter the DataFrame and drop the 'next_mph' column\n",
    "df_moving = df_clean[mask].drop(columns=['next_mph'])\n",
    "df_moving = df_clean[mask].drop(columns=['next_mph'])\n",
    "df_moving.describe()\n"
   ]
  },
  {
   "cell_type": "code",
   "execution_count": null,
   "metadata": {},
   "outputs": [],
   "source": [
    "df_moving.hvplot(\n",
    "    kind='scatter',\n",
    "    x='distTrip (Miles)',\n",
    "    y=['alt (ft)'],\n",
    "    legend='bottom_right',\n",
    "    widget_location='bottom',\n",
    ")"
   ]
  },
  {
   "cell_type": "code",
   "execution_count": null,
   "metadata": {},
   "outputs": [],
   "source": [
    "df_0_10=filter(df_moving,'MPH',0,10)\n",
    "df_0_10.describe()\n"
   ]
  },
  {
   "cell_type": "code",
   "execution_count": null,
   "metadata": {},
   "outputs": [],
   "source": [
    "hvexplorer = df_0_10.hvplot.explorer()\n",
    "hvexplorer"
   ]
  },
  {
   "cell_type": "code",
   "execution_count": null,
   "metadata": {},
   "outputs": [],
   "source": [
    "df_10_20=filter(df_moving,'MPH',10,20)\n",
    "df_10_20.describe()"
   ]
  },
  {
   "cell_type": "code",
   "execution_count": null,
   "metadata": {},
   "outputs": [],
   "source": [
    "hvexplorer = df_10_20.hvplot.explorer()\n",
    "hvexplorer"
   ]
  },
  {
   "cell_type": "code",
   "execution_count": null,
   "metadata": {},
   "outputs": [],
   "source": [
    "df_20_30=filter(df_moving,'MPH',20,30)\n",
    "df_20_30.describe()\n"
   ]
  },
  {
   "cell_type": "code",
   "execution_count": null,
   "metadata": {},
   "outputs": [],
   "source": [
    "hvexplorer = df_20_30.hvplot.explorer()\n",
    "hvexplorer\n"
   ]
  },
  {
   "cell_type": "code",
   "execution_count": null,
   "metadata": {},
   "outputs": [],
   "source": [
    "df_30_40=filter(df_moving,'MPH',30,40)\n",
    "df_30_40.describe()"
   ]
  },
  {
   "cell_type": "code",
   "execution_count": null,
   "metadata": {},
   "outputs": [],
   "source": [
    "hvexplorer = df_30_40.hvplot.explorer()\n",
    "hvexplorer"
   ]
  },
  {
   "cell_type": "code",
   "execution_count": null,
   "metadata": {},
   "outputs": [],
   "source": [
    "df_40_50=filter(df_moving,'MPH',40,50)\n",
    "df_40_50.describe()"
   ]
  },
  {
   "cell_type": "code",
   "execution_count": null,
   "metadata": {},
   "outputs": [],
   "source": [
    "hvexplorer = df_40_50.hvplot.explorer()\n",
    "hvexplorer"
   ]
  },
  {
   "cell_type": "code",
   "execution_count": null,
   "metadata": {},
   "outputs": [],
   "source": [
    "df_50_60=filter(df_moving,'MPH',50,60)\n",
    "df_50_60.describe()"
   ]
  },
  {
   "cell_type": "code",
   "execution_count": null,
   "metadata": {},
   "outputs": [],
   "source": [
    "hvexplorer = df_50_60.hvplot.explorer()\n",
    "hvexplorer"
   ]
  },
  {
   "cell_type": "code",
   "execution_count": null,
   "metadata": {},
   "outputs": [],
   "source": [
    "df_60_70=filter(df_moving,'MPH',60,70)\n",
    "df_60_70.describe()"
   ]
  },
  {
   "cell_type": "code",
   "execution_count": null,
   "metadata": {},
   "outputs": [],
   "source": [
    "hvexplorer = df_60_70.hvplot.explorer()\n",
    "hvexplorer"
   ]
  },
  {
   "cell_type": "code",
   "execution_count": null,
   "metadata": {},
   "outputs": [],
   "source": [
    "df_70_85=filter(df_moving,'MPH',70,85)\n",
    "df_70_85.describe()"
   ]
  },
  {
   "cell_type": "code",
   "execution_count": null,
   "metadata": {},
   "outputs": [],
   "source": [
    "hvexplorer = df_70_85.hvplot.explorer()\n",
    "hvexplorer"
   ]
  },
  {
   "cell_type": "code",
   "execution_count": null,
   "metadata": {},
   "outputs": [],
   "source": [
    "df_55_80=filter(df_moving,'MPH',55,80)\n",
    "df_55_80.describe()"
   ]
  },
  {
   "cell_type": "code",
   "execution_count": null,
   "metadata": {},
   "outputs": [],
   "source": [
    "map_55_80 = create_map(df_55_80,output_folder_path,\"map_55_80\")\n",
    "map_55_80"
   ]
  },
  {
   "cell_type": "code",
   "execution_count": null,
   "metadata": {},
   "outputs": [],
   "source": [
    "df_fuel_rail = df_55_80[['RPM','fuelRailPressA CMD (inHg)', 'fuelRailPressA (inHg)']].copy()\n",
    "\n",
    "df_fuel_rail['cmd/act'] = df_fuel_rail['fuelRailPressA CMD (inHg)'] / df_fuel_rail['fuelRailPressA (inHg)'].replace(0, np.nan)\n",
    "df_fuel_rail['cmd-act'] = df_fuel_rail['fuelRailPressA CMD (inHg)'] - df_fuel_rail['fuelRailPressA (inHg)'].replace(0, np.nan)\n",
    "df_fuel_rail.describe()"
   ]
  },
  {
   "cell_type": "code",
   "execution_count": null,
   "metadata": {},
   "outputs": [],
   "source": [
    "hvexplorer = df_fuel_rail.hvplot.explorer()\n",
    "hvexplorer"
   ]
  },
  {
   "cell_type": "code",
   "execution_count": null,
   "metadata": {},
   "outputs": [],
   "source": [
    "hvexplorer = df_55_80.hvplot.explorer()\n",
    "hvexplorer"
   ]
  }
 ],
 "metadata": {
  "kernelspec": {
   "display_name": "Python 3",
   "language": "python",
   "name": "python3"
  },
  "language_info": {
   "codemirror_mode": {
    "name": "ipython",
    "version": 3
   },
   "file_extension": ".py",
   "mimetype": "text/x-python",
   "name": "python",
   "nbconvert_exporter": "python",
   "pygments_lexer": "ipython3",
   "version": "3.11.1"
  }
 },
 "nbformat": 4,
 "nbformat_minor": 2
}
