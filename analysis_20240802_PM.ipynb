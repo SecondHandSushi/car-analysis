{
 "cells": [
  {
   "cell_type": "code",
   "execution_count": null,
   "metadata": {},
   "outputs": [],
   "source": [
    "import pandas as pd\n",
    "import hvplot.pandas\n",
    "import holoviews as hv\n",
    "import numpy as np\n",
    "from holoviews import opts\n",
    "import panel as pn\n",
    "pn.extension()\n",
    "hv.extension('bokeh')\n",
    "import geopandas as gpd\n",
    "from shapely.geometry import Point\n",
    "import folium\n",
    "import branca.colormap as cm\n",
    "\n"
   ]
  },
  {
   "cell_type": "code",
   "execution_count": null,
   "metadata": {},
   "outputs": [],
   "source": [
    "df=pd.read_csv('data/commute/CSVLog_20240802_141351.csv')\n",
    "df.columns = df.columns.str.strip()\n",
    "df.head()"
   ]
  },
  {
   "cell_type": "code",
   "execution_count": null,
   "metadata": {},
   "outputs": [],
   "source": [
    "column_list=df.columns.tolist()\n",
    "print(column_list)"
   ]
  },
  {
   "cell_type": "code",
   "execution_count": null,
   "metadata": {},
   "outputs": [],
   "source": [
    "df=df[['Time (sec)', 'Vehicle speed (MPH)', 'Relative accelerator pedal position (%)','Engine RPM (RPM)', 'Boost (psi)', 'Engine Power (hp)', 'Mass air flow rate (lb/min)','Intake manifold absolute pressure (inHg)', 'Ambient air temperature (°F)','Trip Distance (miles)','Instant fuel economy (MPG)', 'Trip Fuel Economy (MPG)', 'Latitude (deg)', 'Longitude (deg)','Bearing (deg)', 'Hard Brake Count', 'Relative throttle position (%)']]\n",
    "df.head()"
   ]
  },
  {
   "cell_type": "code",
   "execution_count": null,
   "metadata": {},
   "outputs": [],
   "source": [
    "# To avoid math errors in situations where values = 0\n",
    "df['Boost (psi)'] = df['Boost (psi)'].bfill().infer_objects()\n",
    "df.loc[df['Boost (psi)'] == 0, 'Boost (psi)'] = 0.01\n",
    "\n",
    "df.head()\n"
   ]
  },
  {
   "cell_type": "code",
   "execution_count": null,
   "metadata": {},
   "outputs": [],
   "source": [
    "def clean_data(df):\n",
    "    # Round columns 'Time (sec)', ' Engine RPM (RPM)' and 2 other columns (Number of decimals: 0)\n",
    "    df = df.round({'Time (sec)': 0, 'Engine RPM (RPM)': 0, 'Engine Power (hp)': 0, 'Time (sec)': 0})\n",
    "    # Round columns ' Instant fuel economy (MPG)', ' Vehicle speed (MPH)' and 4 other columns (Number of decimals: 1)\n",
    "    df = df.round({'Instant fuel economy (MPG)': 1, 'Vehicle speed (MPH)': 1,'Relative throttle position (%)': 1, 'Relative accelerator pedal position (%)': 1, 'Trip Distance (miles)': 1, 'Trip Fuel Economy (MPG)': 1,'Boost (psi)':1})\n",
    "    # Round columns ' Intake manifold absolute pressure (inHg)', ' Mass air flow rate (lb/min)', ' Bearing (deg)' (Number of decimals: 2)\n",
    "    df = df.round({'Intake manifold absolute pressure (inHg)': 2, 'Mass air flow rate (lb/min)': 2,'Bearing (deg)': 2})\n",
    "    # Drop columns: ' Intake manifold absolute pressure (inHg)', ' Mass air flow rate (lb/min)' and 3 other columns\n",
    "    df = df.drop(columns=['Hard Brake Count','Relative throttle position (%)','Fuel type'])\n",
    "    # Rename column 'Latitude (deg)' to 'latitude'\n",
    "    df = df.rename(columns={'Latitude (deg)': 'latitude'})\n",
    "    # Rename column 'Longitude (deg)' to 'longitude'\n",
    "    df = df.rename(columns={'Longitude (deg)': 'longitude'})\n",
    "    return df\n",
    "\n",
    "df_clean = clean_data(df.copy())\n",
    "df_clean.head()"
   ]
  },
  {
   "cell_type": "code",
   "execution_count": null,
   "metadata": {},
   "outputs": [],
   "source": [
    "#create dataframe where vehicle is stationary\n",
    "df_stationary = df_clean[df_clean['Vehicle speed (MPH)'] == 0]\n",
    "df_stationary.head()"
   ]
  },
  {
   "cell_type": "code",
   "execution_count": null,
   "metadata": {},
   "outputs": [],
   "source": [
    "#creates dataframe where the vehicle is moving or is about to begin motion after being stationary\n",
    "df_clean['next_mph'] = df_clean['Vehicle speed (MPH)'].shift(-1)\n",
    "mask = (df_clean['Vehicle speed (MPH)'] > 0) | ((df_clean['Vehicle speed (MPH)'] == 0) & (df_clean['next_mph'] > 0))\n",
    "df_moving= df_clean[mask].drop(columns=['next_mph'])\n",
    "df_moving.head()"
   ]
  },
  {
   "cell_type": "code",
   "execution_count": null,
   "metadata": {},
   "outputs": [],
   "source": [
    "#experimenting \n",
    "df_moving['Mass Air/Boost']=df_moving['Mass air flow rate (lb/min)']/df_moving['Boost (psi)']\n",
    "df_moving['Mass Air/manPress']=df_moving['Mass air flow rate (lb/min)']/df_moving['Intake manifold absolute pressure (inHg)']\n",
    "df_moving.head()"
   ]
  },
  {
   "cell_type": "code",
   "execution_count": null,
   "metadata": {},
   "outputs": [],
   "source": [
    "#creates dataframe where vehicle is moving and speed is less than 10mph\n",
    "mask = (df_moving['Vehicle speed (MPH)'] <= 10)\n",
    "df_less_10 = df_moving[mask]\n",
    "#df_less_10.head()\n",
    "df_less_10.describe()"
   ]
  },
  {
   "cell_type": "code",
   "execution_count": null,
   "metadata": {},
   "outputs": [],
   "source": [
    "#creates dataframe where vehicle is moving and speed is between 10 and 20mph\n",
    "mask = (df_moving['Vehicle speed (MPH)'] >= 10) & (df_moving['Vehicle speed (MPH)'] <= 20)\n",
    "df_10_20 = df_moving[mask]\n",
    "#df_10_20.head()\n",
    "df_10_20.describe()"
   ]
  },
  {
   "cell_type": "code",
   "execution_count": null,
   "metadata": {},
   "outputs": [],
   "source": [
    "#creates dataframe where vehicle is moving and speed is between 20 and 30mph\n",
    "mask = (df_moving['Vehicle speed (MPH)'] >= 20) & (df_moving['Vehicle speed (MPH)'] <= 30)\n",
    "df_20_30 = df_moving[mask]\n",
    "#df_20_30.head()\n",
    "df_20_30.describe()"
   ]
  },
  {
   "cell_type": "code",
   "execution_count": null,
   "metadata": {},
   "outputs": [],
   "source": [
    "#creates dataframe where vehicle is moving and speed is between 30 and 40mph\n",
    "mask = (df_moving['Vehicle speed (MPH)'] >= 30) & (df_moving['Vehicle speed (MPH)'] <= 40)\n",
    "df_30_40 = df_moving[mask]\n",
    "#df_30_40.head()\n",
    "df_30_40.describe()"
   ]
  },
  {
   "cell_type": "code",
   "execution_count": null,
   "metadata": {},
   "outputs": [],
   "source": [
    "#creates dataframe where vehicle is moving and speed is between 40 and 50mph\n",
    "mask = (df_moving['Vehicle speed (MPH)'] >= 40) & (df_moving['Vehicle speed (MPH)'] <= 50)\n",
    "df_40_50 = df_moving[mask]\n",
    "#df_40_50.head()\n",
    "df_40_50.describe()"
   ]
  },
  {
   "cell_type": "code",
   "execution_count": null,
   "metadata": {},
   "outputs": [],
   "source": [
    "mask = (df_moving['Vehicle speed (MPH)'] >= 50) & (df_moving['Vehicle speed (MPH)'] <= 60)\n",
    "df_50_60 = df_moving[mask]\n",
    "df_50_60.describe()"
   ]
  },
  {
   "cell_type": "code",
   "execution_count": null,
   "metadata": {},
   "outputs": [],
   "source": [
    "#creates dataframe where vehicle is moving and speed is between 40 and 50mph\n",
    "mask = (df_moving['Vehicle speed (MPH)'] >= 60) & (df_moving['Vehicle speed (MPH)'] <= 70)\n",
    "df_60_70 = df_moving[mask]\n",
    "#df_60_70.head()\n",
    "df_60_70.describe()"
   ]
  },
  {
   "cell_type": "code",
   "execution_count": null,
   "metadata": {},
   "outputs": [],
   "source": [
    "mask = (df_moving['Vehicle speed (MPH)'] >= 70)\n",
    "df_grt_70 = df_moving[mask]\n",
    "#df_grt_70.head()\n",
    "df_grt_70.describe()"
   ]
  },
  {
   "cell_type": "code",
   "execution_count": null,
   "metadata": {},
   "outputs": [],
   "source": [
    "mask = df_20_30['Instant fuel economy (MPG)'] > 100\n",
    "mpg_100 = mask.sum()\n",
    "print(mpg_100)"
   ]
  },
  {
   "cell_type": "code",
   "execution_count": null,
   "metadata": {},
   "outputs": [],
   "source": [
    "mask = df_30_40['Instant fuel economy (MPG)'] > 100\n",
    "mpg_100 = mask.sum()\n",
    "print(mpg_100)"
   ]
  },
  {
   "cell_type": "code",
   "execution_count": null,
   "metadata": {},
   "outputs": [],
   "source": [
    "mask = df_40_50['Instant fuel economy (MPG)'] > 100\n",
    "mpg_100 = mask.sum()\n",
    "print(mpg_100)"
   ]
  },
  {
   "cell_type": "code",
   "execution_count": null,
   "metadata": {},
   "outputs": [],
   "source": [
    "mask = df_60_70['Instant fuel economy (MPG)'] > 100\n",
    "mpg_100 = mask.sum()\n",
    "print(mpg_100)"
   ]
  },
  {
   "cell_type": "code",
   "execution_count": null,
   "metadata": {},
   "outputs": [],
   "source": [
    "mask = df_60_70['Instant fuel economy (MPG)'] > 100\n",
    "mpg_100 = mask.sum()\n",
    "print(mpg_100)"
   ]
  },
  {
   "cell_type": "code",
   "execution_count": null,
   "metadata": {},
   "outputs": [],
   "source": [
    "mask = (df_moving['Vehicle speed (MPH)'] >= 70)\n",
    "df_grt_70 = df_moving[mask]\n",
    "df_grt_70.head()"
   ]
  },
  {
   "cell_type": "code",
   "execution_count": null,
   "metadata": {},
   "outputs": [],
   "source": [
    "\n",
    "df_less_10_geo=df_less_10.copy()\n",
    "df_less_10_geo.head()\n",
    "\n",
    "df_10_20_geo = df_10_20.copy()\n",
    "df_10_20_geo.head()\n",
    "\n",
    "df_20_30_geo = df_20_30.copy()\n",
    "df_20_30_geo.head()\n",
    "\n",
    "df_30_40_geo = df_30_40.copy()\n",
    "df_30_40_geo.head()\n",
    "\n",
    "df_40_50_geo = df_40_50.copy()\n",
    "df_40_50_geo.head()\n",
    "\n",
    "df_50_60_geo = df_50_60.copy()\n",
    "\n",
    "\n",
    "df_60_70_geo = df_60_70.copy()\n",
    "\n",
    "\n",
    "\n"
   ]
  },
  {
   "cell_type": "code",
   "execution_count": null,
   "metadata": {},
   "outputs": [],
   "source": [
    "map_center = [df_60_70_geo['latitude'].mean(), df_60_70_geo['longitude'].mean()]\n",
    "print(map_center)"
   ]
  },
  {
   "cell_type": "code",
   "execution_count": null,
   "metadata": {},
   "outputs": [],
   "source": [
    "print(\"Available colormaps:\")\n",
    "for name in dir(cm):\n",
    "    if 'colormap' in name.lower():\n",
    "        print(name)"
   ]
  },
  {
   "cell_type": "code",
   "execution_count": null,
   "metadata": {},
   "outputs": [],
   "source": [
    "map_center = [44.980164, -93.185692]\n",
    "m = folium.Map(location=map_center, zoom_start=11)\n",
    "\n",
    "#colormap = cm.linear.YlGnBu.scale(df_moving['Vehicle speed (MPH)'].min(), df_moving['Vehicle speed (MPH)'].max())\n",
    "colormap = cm.LinearColormap(\n",
    "    colors=['blue', 'green', 'yellow', 'red'],  # Custom color range\n",
    "    vmin=df_moving['Vehicle speed (MPH)'].min(),\n",
    "    vmax=df_moving['Vehicle speed (MPH)'].max(),\n",
    "    caption='Vehicle Speed (MPH)'\n",
    ")\n",
    "colormap.add_to(m)\n",
    "\n",
    "coordinates = df_moving[['latitude', 'longitude', 'Vehicle speed (MPH)']].values.tolist()\n",
    "sorted_coordinates = sorted(coordinates, key=lambda x: x[2])\n",
    "\n",
    "for i in range(len(df_moving) - 1):\n",
    "    # Coordinates of the current segment\n",
    "    start = [df_moving.iloc[i]['latitude'], df_moving.iloc[i]['longitude']]\n",
    "    end = [df_moving.iloc[i + 1]['latitude'], df_moving.iloc[i + 1]['longitude']]\n",
    "    \n",
    "    # Value for color mapping (use average or a specific value)\n",
    "    segment_value = (df_moving.iloc[i]['Vehicle speed (MPH)'] + df_moving.iloc[i + 1]['Vehicle speed (MPH)']) / 2\n",
    "    \n",
    "    # Create and add a PolyLine for each segment\n",
    "    folium.PolyLine(\n",
    "        locations=[start, end],\n",
    "        color=colormap(segment_value),  # Map value to color\n",
    "        weight=5,\n",
    "        opacity=1\n",
    "    ).add_to(m)\n",
    "# Save the map to an HTML file\n",
    "m.save('df_moving_interactive_map.html')\n"
   ]
  },
  {
   "cell_type": "code",
   "execution_count": null,
   "metadata": {},
   "outputs": [],
   "source": [
    "map_center = [44.980164, -93.185692]\n",
    "m = folium.Map(location=map_center, zoom_start=11)\n",
    "\n",
    "\n",
    "# Prepare the list of coordinates for the PolyLine\n",
    "coordinates = df_60_70_geo[['latitude', 'longitude']].values.tolist()\n",
    "\n",
    "# Add a PolyLine to the map\n",
    "folium.PolyLine(\n",
    "    locations=coordinates,\n",
    "    popup=[str(row['Time (sec)']) for idx, row in df_60_70_geo.iterrows()],\n",
    "    weight=5,\n",
    "    opacity=1,\n",
    "    color='blue'\n",
    ").add_to(m)\n",
    "\n",
    "# Save the map to an HTML file\n",
    "m.save('60_70_map.html')"
   ]
  },
  {
   "cell_type": "code",
   "execution_count": null,
   "metadata": {},
   "outputs": [],
   "source": [
    "hvexplorer = df.hvplot.explorer()\n",
    "hvexplorer"
   ]
  },
  {
   "cell_type": "code",
   "execution_count": null,
   "metadata": {},
   "outputs": [],
   "source": [
    "df['Engine RPM (RPM)']=df['Engine RPM (RPM)']/100\n",
    "df['Engine Power (hp)']=df['Engine Power (hp)']/10\n",
    "df['Ambient air temperature (°F)']=df['Ambient air temperature (°F)']/10\n",
    "df['Intake air temperature bank 1  sensor 1 (°F)']=df['Intake air temperature bank 1  sensor 1 (°F)']/10\n",
    "#df['Relative throttle position (%)']=df['Relative throttle position (%)']/10\n",
    "#df[' Boost (psi)']=df[' Boost (psi)']/10\n",
    "#df[' Mass air flow rate (lb/min)']=df[' Mass air flow rate (lb/min)']/10\n",
    "\n",
    "\n",
    "#df['Boost (psi)']= df['Boost (psi)']/10\n"
   ]
  },
  {
   "cell_type": "code",
   "execution_count": null,
   "metadata": {},
   "outputs": [],
   "source": [
    "start_index = int(round(2227.003))  # or use int(2227.003)\n",
    "end_index = int(round(2231.996))    # or use int(2255.994)\n",
    "\n",
    "# Select rows between start_index and end_index (inclusive)\n",
    "boosted = df.iloc[start_index:end_index + 1]\n",
    "\n",
    "print(boosted.head())"
   ]
  },
  {
   "cell_type": "code",
   "execution_count": null,
   "metadata": {},
   "outputs": [],
   "source": [
    "#boosted=df.iloc[2227:2233]\n",
    "#boosted.head"
   ]
  },
  {
   "cell_type": "code",
   "execution_count": null,
   "metadata": {},
   "outputs": [],
   "source": [
    "boosted.hvplot(\n",
    "    kind='line',\n",
    "    x='Time (sec)',\n",
    "    y=['Engine RPM (RPM)','Boost (psi)','Relative throttle position (%)','Vehicle speed (MPH)' ], #'Engine Power (hp)'\n",
    "    legend='bottom_right',\n",
    "    widget_location='bottom',\n",
    ")"
   ]
  },
  {
   "cell_type": "code",
   "execution_count": null,
   "metadata": {},
   "outputs": [],
   "source": [
    "df.hvplot(\n",
    "    kind='line',\n",
    "    x='Time (sec)',\n",
    "    y=['Mass Air/Boost'],\n",
    "    legend='bottom_right',\n",
    "    widget_location='bottom',\n",
    ")"
   ]
  },
  {
   "cell_type": "code",
   "execution_count": null,
   "metadata": {},
   "outputs": [],
   "source": [
    "df.hvplot(\n",
    "    kind='line',\n",
    "    x='Time (sec)',\n",
    "    y=['Mass Air/manPress'],\n",
    "    legend='bottom_right',\n",
    "    widget_location='bottom',\n",
    ")"
   ]
  },
  {
   "cell_type": "code",
   "execution_count": null,
   "metadata": {},
   "outputs": [],
   "source": [
    "df.hvplot(\n",
    "    kind='line',\n",
    "    x='Time (sec)',\n",
    "    y1='Intake air temperature bank 1  sensor 1 (°F)',\n",
    "    y2='Boost (psi)',\n",
    "    legend='bottom_right',\n",
    "    widget_location='bottom',\n",
    ")"
   ]
  }
 ],
 "metadata": {
  "kernelspec": {
   "display_name": "Python 3",
   "language": "python",
   "name": "python3"
  },
  "language_info": {
   "codemirror_mode": {
    "name": "ipython",
    "version": 3
   },
   "file_extension": ".py",
   "mimetype": "text/x-python",
   "name": "python",
   "nbconvert_exporter": "python",
   "pygments_lexer": "ipython3",
   "version": "3.11.1"
  }
 },
 "nbformat": 4,
 "nbformat_minor": 2
}
